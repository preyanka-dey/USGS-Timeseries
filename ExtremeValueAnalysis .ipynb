{
 "cells": [
  {
   "cell_type": "code",
   "execution_count": null,
   "id": "ef4609a4",
   "metadata": {},
   "outputs": [],
   "source": [
    "install.packages(\"extRemes\")\n",
    "install.packages(\"dataRetrieval\")\n",
    "library(dataRetrieval)\n",
    "library(extRemes)"
   ]
  },
  {
   "cell_type": "code",
   "execution_count": 2,
   "id": "82acfeb5",
   "metadata": {},
   "outputs": [],
   "source": [
    "siteNumbers <- c(\"03568000\")\n",
    "peakData <- readNWISpeak(siteNumbers,  startDate = \"1900-01-01\",\n",
    "                         endDate = \"2008-12-31\")"
   ]
  },
  {
   "cell_type": "code",
   "execution_count": 3,
   "id": "f2fe914e",
   "metadata": {},
   "outputs": [
    {
     "data": {
      "text/html": [
       "<table>\n",
       "<thead><tr><th scope=col>agency_cd</th><th scope=col>site_no</th><th scope=col>peak_dt</th><th scope=col>peak_tm</th><th scope=col>peak_va</th><th scope=col>peak_cd</th><th scope=col>gage_ht</th><th scope=col>gage_ht_cd</th><th scope=col>year_last_pk</th><th scope=col>ag_dt</th><th scope=col>ag_tm</th><th scope=col>ag_gage_ht</th><th scope=col>ag_gage_ht_cd</th></tr></thead>\n",
       "<tbody>\n",
       "\t<tr><td>USGS      </td><td>03568000  </td><td>1900-02-15</td><td>NA        </td><td>159000    </td><td>NA        </td><td>24.3      </td><td>NA        </td><td>NA        </td><td>NA        </td><td>NA        </td><td>NA        </td><td>NA        </td></tr>\n",
       "\t<tr><td>USGS      </td><td>03568000  </td><td>1901-05-25</td><td>NA        </td><td>221000    </td><td>NA        </td><td>33.2      </td><td>NA        </td><td>NA        </td><td>NA        </td><td>NA        </td><td>NA        </td><td>NA        </td></tr>\n",
       "\t<tr><td>USGS      </td><td>03568000  </td><td>1902-01-02</td><td>NA        </td><td>271000    </td><td>NA        </td><td>40.8      </td><td>NA        </td><td>NA        </td><td>NA        </td><td>NA        </td><td>NA        </td><td>NA        </td></tr>\n",
       "\t<tr><td>USGS      </td><td>03568000  </td><td>1903-04-11</td><td>NA        </td><td>210000    </td><td>NA        </td><td>31.8      </td><td>NA        </td><td>NA        </td><td>NA        </td><td>NA        </td><td>NA        </td><td>NA        </td></tr>\n",
       "\t<tr><td>USGS      </td><td>03568000  </td><td>1904-03-25</td><td>NA        </td><td>144000    </td><td>NA        </td><td>22.1      </td><td>NA        </td><td>NA        </td><td>NA        </td><td>NA        </td><td>NA        </td><td>NA        </td></tr>\n",
       "\t<tr><td>USGS      </td><td>03568000  </td><td>1905-02-11</td><td>NA        </td><td>146000    </td><td>NA        </td><td>22.4      </td><td>NA        </td><td>NA        </td><td>NA        </td><td>NA        </td><td>NA        </td><td>NA        </td></tr>\n",
       "</tbody>\n",
       "</table>\n"
      ],
      "text/latex": [
       "\\begin{tabular}{r|lllllllllllll}\n",
       " agency\\_cd & site\\_no & peak\\_dt & peak\\_tm & peak\\_va & peak\\_cd & gage\\_ht & gage\\_ht\\_cd & year\\_last\\_pk & ag\\_dt & ag\\_tm & ag\\_gage\\_ht & ag\\_gage\\_ht\\_cd\\\\\n",
       "\\hline\n",
       "\t USGS       & 03568000   & 1900-02-15 & NA         & 159000     & NA         & 24.3       & NA         & NA         & NA         & NA         & NA         & NA        \\\\\n",
       "\t USGS       & 03568000   & 1901-05-25 & NA         & 221000     & NA         & 33.2       & NA         & NA         & NA         & NA         & NA         & NA        \\\\\n",
       "\t USGS       & 03568000   & 1902-01-02 & NA         & 271000     & NA         & 40.8       & NA         & NA         & NA         & NA         & NA         & NA        \\\\\n",
       "\t USGS       & 03568000   & 1903-04-11 & NA         & 210000     & NA         & 31.8       & NA         & NA         & NA         & NA         & NA         & NA        \\\\\n",
       "\t USGS       & 03568000   & 1904-03-25 & NA         & 144000     & NA         & 22.1       & NA         & NA         & NA         & NA         & NA         & NA        \\\\\n",
       "\t USGS       & 03568000   & 1905-02-11 & NA         & 146000     & NA         & 22.4       & NA         & NA         & NA         & NA         & NA         & NA        \\\\\n",
       "\\end{tabular}\n"
      ],
      "text/markdown": [
       "\n",
       "| agency_cd | site_no | peak_dt | peak_tm | peak_va | peak_cd | gage_ht | gage_ht_cd | year_last_pk | ag_dt | ag_tm | ag_gage_ht | ag_gage_ht_cd |\n",
       "|---|---|---|---|---|---|---|---|---|---|---|---|---|\n",
       "| USGS       | 03568000   | 1900-02-15 | NA         | 159000     | NA         | 24.3       | NA         | NA         | NA         | NA         | NA         | NA         |\n",
       "| USGS       | 03568000   | 1901-05-25 | NA         | 221000     | NA         | 33.2       | NA         | NA         | NA         | NA         | NA         | NA         |\n",
       "| USGS       | 03568000   | 1902-01-02 | NA         | 271000     | NA         | 40.8       | NA         | NA         | NA         | NA         | NA         | NA         |\n",
       "| USGS       | 03568000   | 1903-04-11 | NA         | 210000     | NA         | 31.8       | NA         | NA         | NA         | NA         | NA         | NA         |\n",
       "| USGS       | 03568000   | 1904-03-25 | NA         | 144000     | NA         | 22.1       | NA         | NA         | NA         | NA         | NA         | NA         |\n",
       "| USGS       | 03568000   | 1905-02-11 | NA         | 146000     | NA         | 22.4       | NA         | NA         | NA         | NA         | NA         | NA         |\n",
       "\n"
      ],
      "text/plain": [
       "  agency_cd site_no  peak_dt    peak_tm peak_va peak_cd gage_ht gage_ht_cd\n",
       "1 USGS      03568000 1900-02-15 NA      159000  NA      24.3    NA        \n",
       "2 USGS      03568000 1901-05-25 NA      221000  NA      33.2    NA        \n",
       "3 USGS      03568000 1902-01-02 NA      271000  NA      40.8    NA        \n",
       "4 USGS      03568000 1903-04-11 NA      210000  NA      31.8    NA        \n",
       "5 USGS      03568000 1904-03-25 NA      144000  NA      22.1    NA        \n",
       "6 USGS      03568000 1905-02-11 NA      146000  NA      22.4    NA        \n",
       "  year_last_pk ag_dt ag_tm ag_gage_ht ag_gage_ht_cd\n",
       "1 NA           <NA>  NA    NA         NA           \n",
       "2 NA           <NA>  NA    NA         NA           \n",
       "3 NA           <NA>  NA    NA         NA           \n",
       "4 NA           <NA>  NA    NA         NA           \n",
       "5 NA           <NA>  NA    NA         NA           \n",
       "6 NA           <NA>  NA    NA         NA           "
      ]
     },
     "metadata": {},
     "output_type": "display_data"
    }
   ],
   "source": [
    "head(peakData)"
   ]
  },
  {
   "cell_type": "code",
   "execution_count": 4,
   "id": "42805172",
   "metadata": {},
   "outputs": [],
   "source": [
    "df=peakData['peak_va']"
   ]
  },
  {
   "cell_type": "code",
   "execution_count": 5,
   "id": "762d33c9",
   "metadata": {},
   "outputs": [
    {
     "data": {
      "image/png": "[encoded data removed]",
      "text/plain": [
       "plot without title"
      ]
     },
     "metadata": {},
     "output_type": "display_data"
    }
   ],
   "source": [
    "plot(peakData$peak_dt,df$peak_va, xlab = \"Year\",type=\"l\",ylab = \"Discharge (cfs)\", \n",
    "col = \"darkblue\", bg = \"lightblue\", pch = 21)"
   ]
  },
  {
   "cell_type": "code",
   "execution_count": 6,
   "id": "a4981676",
   "metadata": {},
   "outputs": [
    {
     "data": {
      "text/html": [
       "<table>\n",
       "<thead><tr><th scope=col>peak_va</th></tr></thead>\n",
       "<tbody>\n",
       "\t<tr><td>159000</td></tr>\n",
       "\t<tr><td>221000</td></tr>\n",
       "\t<tr><td>271000</td></tr>\n",
       "\t<tr><td>210000</td></tr>\n",
       "\t<tr><td>144000</td></tr>\n",
       "\t<tr><td>146000</td></tr>\n",
       "</tbody>\n",
       "</table>\n"
      ],
      "text/latex": [
       "\\begin{tabular}{r|l}\n",
       " peak\\_va\\\\\n",
       "\\hline\n",
       "\t 159000\\\\\n",
       "\t 221000\\\\\n",
       "\t 271000\\\\\n",
       "\t 210000\\\\\n",
       "\t 144000\\\\\n",
       "\t 146000\\\\\n",
       "\\end{tabular}\n"
      ],
      "text/markdown": [
       "\n",
       "| peak_va |\n",
       "|---|\n",
       "| 159000 |\n",
       "| 221000 |\n",
       "| 271000 |\n",
       "| 210000 |\n",
       "| 144000 |\n",
       "| 146000 |\n",
       "\n"
      ],
      "text/plain": [
       "  peak_va\n",
       "1 159000 \n",
       "2 221000 \n",
       "3 271000 \n",
       "4 210000 \n",
       "5 144000 \n",
       "6 146000 "
      ]
     },
     "metadata": {},
     "output_type": "display_data"
    }
   ],
   "source": [
    "head(df)"
   ]
  },
  {
   "cell_type": "markdown",
   "id": "9fdbddb5",
   "metadata": {},
   "source": [
    "####  Let's use Gumbel distribution type for extreme value analysis, you can use other approaches based on your need, for key words for distribution and methods please see the \"extRemes\" package documentation. "
   ]
  },
  {
   "cell_type": "code",
   "execution_count": 7,
   "id": "7bac9363",
   "metadata": {},
   "outputs": [],
   "source": [
    "fit <- fevd(df[['peak_va']],type = c(\"Gumbel\"))"
   ]
  },
  {
   "cell_type": "code",
   "execution_count": 8,
   "id": "a1a0c9dd",
   "metadata": {},
   "outputs": [
    {
     "data": {
      "image/png": "[encoded data removed]",
      "text/plain": [
       "Plot with title \"\""
      ]
     },
     "metadata": {},
     "output_type": "display_data"
    }
   ],
   "source": [
    "plot(fit)"
   ]
  },
  {
   "cell_type": "markdown",
   "id": "822b583c",
   "metadata": {},
   "source": [
    "#### Let's define return periods in a list, i.e., 5,10,20,50,100,200,300,500 years extreme values, for me values are for floods"
   ]
  },
  {
   "cell_type": "code",
   "execution_count": 9,
   "id": "7b5031b9",
   "metadata": {},
   "outputs": [
    {
     "data": {
      "text/plain": [
       "fevd(x = df[[\"peak_va\"]], type = c(\"Gumbel\"))\n",
       "\n",
       "[1] \"Normal Approx.\"\n",
       "\n",
       "                      95% lower CI Estimate 95% upper CI\n",
       "5-year return level       207185.1 228922.8     250660.5\n",
       "10-year return level      244448.6 272389.2     300329.8\n",
       "20-year return level      279961.7 314083.3     348204.8\n",
       "50-year return level      325757.6 368051.9     410346.2\n",
       "100-year return level     360002.0 408493.8     456985.6\n",
       "200-year return level     394082.6 448788.2     503493.7\n",
       "300-year return level     413974.3 472322.0     530669.7\n",
       "500-year return level     439005.6 501948.9     564892.2\n"
      ]
     },
     "metadata": {},
     "output_type": "display_data"
    }
   ],
   "source": [
    "ci(fit, return.period=c(5,10,20,50,100,200,300,500))"
   ]
  },
  {
   "cell_type": "markdown",
   "id": "33631732",
   "metadata": {},
   "source": [
    "#### So, you can see a 100 year flood has a discharge value of 472322.0 cfs. I have crosscheck with Excel results and they are pretty close. "
   ]
  }
 ],
 "metadata": {
  "kernelspec": {
   "display_name": "R",
   "language": "R",
   "name": "ir"
  },
  "language_info": {
   "codemirror_mode": "r",
   "file_extension": ".r",
   "mimetype": "text/x-r-source",
   "name": "R",
   "pygments_lexer": "r",
   "version": "3.6.1"
  }
 },
 "nbformat": 4,
 "nbformat_minor": 5
}
